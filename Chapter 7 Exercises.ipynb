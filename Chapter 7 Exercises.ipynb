{
 "cells": [
  {
   "cell_type": "code",
   "execution_count": 16,
   "id": "281cd89a-059e-4538-9ed6-75560c00471e",
   "metadata": {},
   "outputs": [
    {
     "name": "stdout",
     "output_type": "stream",
     "text": [
      "<_io.TextIOWrapper name='mbox.txt' mode='r' encoding='UTF-8'>\n"
     ]
    }
   ],
   "source": [
    "import os\n",
    "\n",
    "os.chdir(\"/Users/jannon/Downloads\")\n",
    "file_hand = open('mbox.txt')\n",
    "print(file_hand)"
   ]
  },
  {
   "cell_type": "code",
   "execution_count": 17,
   "id": "b231b1cc-eb99-48b7-9d8c-6444bcca0985",
   "metadata": {},
   "outputs": [
    {
     "name": "stdout",
     "output_type": "stream",
     "text": [
      "<_io.TextIOWrapper name='mbox.txt' mode='r' encoding='UTF-8'>\n"
     ]
    }
   ],
   "source": [
    "print(file_hand)"
   ]
  },
  {
   "cell_type": "code",
   "execution_count": 20,
   "id": "c77c0ddf-bf53-4510-befb-016d834a5e91",
   "metadata": {},
   "outputs": [
    {
     "name": "stdout",
     "output_type": "stream",
     "text": [
      "Total lines is 132043\n"
     ]
    }
   ],
   "source": [
    "lines = 0\n",
    "for line in file_hand:\n",
    "    lines = lines + 1\n",
    "print(f\"Total lines is {str(lines)}\")"
   ]
  },
  {
   "cell_type": "code",
   "execution_count": 23,
   "id": "bb2a1fa4-5578-46e9-bc56-c392f8e35ad6",
   "metadata": {},
   "outputs": [],
   "source": [
    "liness = 0 \n",
    "for line in file_hand:\n",
    "    if line in file_hand.startswith(\"@\"):\n",
    "        liness = liness + 1"
   ]
  },
  {
   "cell_type": "markdown",
   "id": "6acc8f59-fcf3-4ea7-9787-bc8dcab0518e",
   "metadata": {},
   "source": [
    "**Exercise 1: Write a program to read through a file and print the contents of the file (line by line) all in upper case. Executing the program will look as follows:**<br>\n",
    "You can download the file from www.py4e.com/code3/mbox-short.txt"
   ]
  },
  {
   "cell_type": "code",
   "execution_count": null,
   "id": "8993d7ea-643c-46b6-989e-39c281cf02e0",
   "metadata": {},
   "outputs": [],
   "source": [
    "import os\n",
    "os.chdir(\"/Users/jannon/Downloads\")\n",
    "file_hand = open('mbox-short.txt')\n",
    "for line in file_hand:\n",
    "    print(line.upper())"
   ]
  },
  {
   "cell_type": "markdown",
   "id": "9d527ad6-9449-46bd-a385-a9f1826c4215",
   "metadata": {},
   "source": [
    "**Exercise 2: Write a program to prompt for a file name, and then read\n",
    "through the file and look for lines of the form:**<br>\n",
    "<br>\n",
    "**X-DSPAM-Confidence: 0.8475**<br>\n",
    "<br>\n",
    "When you encounter a line that starts with “X-DSPAM-Confidence:” pull apart the line to extract the floating-point number on the line. Count these lines and then compute the total of the spam confidence values from these lines. When you reach the end of the file, print out the average spam confidence.<br>\n",
    "<br>\n",
    "Enter the file name: mbox.txt<br>\n",
    "Average spam confidence: 0.894128046745\n"
   ]
  },
  {
   "cell_type": "code",
   "execution_count": 46,
   "id": "3d94a66c-8bd3-47d3-8a6d-e140a50013cc",
   "metadata": {},
   "outputs": [
    {
     "name": "stdin",
     "output_type": "stream",
     "text": [
      "Enter File Location:\t mbox-short.txt\n"
     ]
    },
    {
     "name": "stdout",
     "output_type": "stream",
     "text": [
      "Average spam confidence: 0.7507185185185187\n"
     ]
    }
   ],
   "source": [
    "import math\n",
    "import os\n",
    "import sys\n",
    "os.chdir(\"/Users/jannon/Downloads\")\n",
    "file_input = input(\"Enter File Location:\\t\")\n",
    "try:\n",
    "    file_handler = open(file_input)\n",
    "except:\n",
    "    print(\"Cannot Access File\")\n",
    "    sys.quit()\n",
    "\n",
    "spam_confidence = []\n",
    "\n",
    "for lines in file_handler:\n",
    "    index = 0\n",
    "    if lines.startswith(\"X-DSPAM-Confidence:\"):\n",
    "        line_index = lines.find(\": \")\n",
    "        #lines = lines.rstrip()\n",
    "        lines = lines.strip()\n",
    "        value = lines[line_index + 1:]\n",
    "        value = float(value.strip())\n",
    "        spam_confidence.append(value)\n",
    "    \n",
    "length = len(spam_confidence)\n",
    "total = sum(spam_confidence)\n",
    "avg_spam_confidence = total / length\n",
    "print(f\"Average spam confidence: {avg_spam_confidence}\")"
   ]
  },
  {
   "cell_type": "markdown",
   "id": "5a9c11f2-2d1b-4f4c-8c69-6e7e61613262",
   "metadata": {},
   "source": [
    "**Exercise 3: Sometimes when programmers get bored or want to have a bit of fun, they add a harmless Easter Egg to their program. Modify the program that prompts the user for the file name so that it prints a funny message when the user types in the exact file name “na na boo boo”. The program should behave normally for all other files which exist and don’t exist. Here is a sample execution of the program:**<br>\n",
    "<br>\n",
    "python egg.py<br>\n",
    "Enter the file name: mbox.txt<br>\n",
    "There were 1797 subject lines in mbox.txt<br>\n",
    "<br>\n",
    "python egg.py<br>\n",
    "Enter the file name: missing.tyxt<br>\n",
    "File cannot be opened: missing.tyxt<br>\n",
    "<br>\n",
    "python egg.py<br>\n",
    "Enter the file name: na na boo boo<br>\n",
    "NA NA BOO BOO TO YOU - You have been punk'd!<br>"
   ]
  },
  {
   "cell_type": "code",
   "execution_count": 48,
   "id": "04e3ee7f-1fbd-46f1-824e-940b463d80b9",
   "metadata": {},
   "outputs": [
    {
     "data": {
      "text/plain": [
       "-1"
      ]
     },
     "execution_count": 48,
     "metadata": {},
     "output_type": "execute_result"
    }
   ],
   "source": [
    "my_string = \"hellos\"\n",
    "my_string.find(\".\")"
   ]
  },
  {
   "cell_type": "code",
   "execution_count": 57,
   "id": "f332a2fe-c9ec-4dd0-9d00-34fb83c89ed9",
   "metadata": {},
   "outputs": [
    {
     "name": "stdin",
     "output_type": "stream",
     "text": [
      "Enter File:  something something\n"
     ]
    },
    {
     "name": "stdout",
     "output_type": "stream",
     "text": [
      "something something - You have been punk'd!\n"
     ]
    }
   ],
   "source": [
    "while True:\n",
    "    file_input = input(\"Enter File: \")\n",
    "    \n",
    "    try:\n",
    "        file_handler = open(file_input)\n",
    "    except:\n",
    "        if file_input.find(\".\") == -1:\n",
    "            print(f\"{file_input} - You have been punk'd!\")\n",
    "        else:\n",
    "            print(f\"File cannot be opened: {file_input}\")\n",
    "        break\n",
    "    \n",
    "    counter = 0 \n",
    "    \n",
    "    for lines in file_handler:\n",
    "        counter = counter + 1\n",
    "    \n",
    "    print(f\"There were {counter} subject lines in {file_input}\")\n"
   ]
  },
  {
   "cell_type": "code",
   "execution_count": null,
   "id": "1b3183f0-8943-4213-958b-51f0c94d9f44",
   "metadata": {},
   "outputs": [],
   "source": []
  }
 ],
 "metadata": {
  "kernelspec": {
   "display_name": "Python 3 (ipykernel)",
   "language": "python",
   "name": "python3"
  },
  "language_info": {
   "codemirror_mode": {
    "name": "ipython",
    "version": 3
   },
   "file_extension": ".py",
   "mimetype": "text/x-python",
   "name": "python",
   "nbconvert_exporter": "python",
   "pygments_lexer": "ipython3",
   "version": "3.8.13"
  }
 },
 "nbformat": 4,
 "nbformat_minor": 5
}
