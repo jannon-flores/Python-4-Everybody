{
 "cells": [
  {
   "cell_type": "markdown",
   "id": "1c7e79f5",
   "metadata": {},
   "source": [
    "#### Exercise 2: Write a program that uses input to prompt a user for their name and then welcomes them.\n",
    "<br>\n",
    "\n",
    "**ie:**<br>\n",
    "\n",
    "\n",
    "*Enter your name: Chuck <br>\n",
    "Hello Chuck*"
   ]
  },
  {
   "cell_type": "code",
   "execution_count": 6,
   "id": "7ed547c1",
   "metadata": {},
   "outputs": [
    {
     "name": "stdout",
     "output_type": "stream",
     "text": [
      "Enter your name:\tChuck\n",
      "Hello Chuck\n"
     ]
    }
   ],
   "source": [
    "name = input(\"Enter your name:\\t\")\n",
    "print(f\"Hello {name}\")"
   ]
  },
  {
   "cell_type": "markdown",
   "id": "b6772ddd",
   "metadata": {},
   "source": [
    "#### Exercise 3: Write a program to prompt the user for hours and rate per hour to compute gross pay. <br>\n",
    "\n",
    "Enter Hours: 35<br>\n",
    "Enter Rate: 2.75<br>\n",
    "Pay: 96.25<br>"
   ]
  },
  {
   "cell_type": "code",
   "execution_count": 9,
   "id": "f567897c",
   "metadata": {},
   "outputs": [
    {
     "name": "stdout",
     "output_type": "stream",
     "text": [
      "Enter Hours:\t35\n",
      "Enter Rate:\t2.75\n",
      "Your gross salary is 96.25\n"
     ]
    }
   ],
   "source": [
    "def gross_pay(hours, rate):\n",
    "    gross_pay = hours * rate\n",
    "    return gross_pay\n",
    "\n",
    "hours = int(input(\"Enter Hours:\\t\"))\n",
    "rate = float(input(\"Enter Rate:\\t\"))\n",
    "pay = gross_pay(hours,rate)\n",
    "\n",
    "print(f\"Your gross salary is {pay}\")"
   ]
  },
  {
   "cell_type": "markdown",
   "id": "312b3c84",
   "metadata": {},
   "source": [
    "#### Exercise 4: Assume that we execute the following assignment statements:\n",
    "<br>\n",
    "width = 17<br>\n",
    "height = 12.0\n",
    "<br>\n",
    "\n",
    "**For each of the following expressions, write the value of the expression and the type (of the value of the expression)**.\n",
    "<ol>\n",
    "    <li>width//2</li>\n",
    "    <li>width/2.0</li>\n",
    "    <li>height/3</li>\n",
    "    <li>1 + 2 * 5</li>\n",
    "<ol>"
   ]
  },
  {
   "cell_type": "code",
   "execution_count": 10,
   "id": "72379cfc",
   "metadata": {},
   "outputs": [],
   "source": [
    "width = 17\n",
    "height = 12.0"
   ]
  },
  {
   "cell_type": "code",
   "execution_count": 13,
   "id": "edb069f6",
   "metadata": {},
   "outputs": [
    {
     "name": "stdout",
     "output_type": "stream",
     "text": [
      "8\n",
      "8.5\n",
      "4.0\n",
      "11\n"
     ]
    }
   ],
   "source": [
    "print(width // 2)\n",
    "print(width / 2.0)\n",
    "print(height / 3)\n",
    "print(1 + 2 * 5)"
   ]
  },
  {
   "cell_type": "code",
   "execution_count": 16,
   "id": "2859fd43",
   "metadata": {},
   "outputs": [
    {
     "name": "stdout",
     "output_type": "stream",
     "text": [
      "<class 'int'>\n",
      "<class 'float'>\n",
      "<class 'float'>\n",
      "<class 'int'>\n"
     ]
    }
   ],
   "source": [
    "print(type(width // 2))\n",
    "print(type(width / 2.0))\n",
    "print(type(height / 3))\n",
    "print(type(1 + 2 * 5))"
   ]
  },
  {
   "cell_type": "markdown",
   "id": "b861a803",
   "metadata": {},
   "source": [
    "#### Exercise 5: Write a program which prompts the user for a Celsius temperature, convert the temperature to Fahrenheit, and print out the converted temperature."
   ]
  },
  {
   "cell_type": "code",
   "execution_count": 27,
   "id": "dbc046b3",
   "metadata": {},
   "outputs": [
    {
     "name": "stdout",
     "output_type": "stream",
     "text": [
      "Celcius or Fahrenheight?\tfahrenheight\n",
      "Input Value:\t80\n",
      "26.666666666666668\n"
     ]
    }
   ],
   "source": [
    "def fahr(c):\n",
    "    F = ((9/5) *(c)) + 32\n",
    "    return F\n",
    "def celc(f):\n",
    "    C = (f - 32) * 5/9\n",
    "    return C\n",
    "\n",
    "choice = input(\"Celcius or Fahrenheight?\\t\")\n",
    "value  = int(input(\"Input Value:\\t\"))\n",
    "\n",
    "choice.lower()\n",
    "\n",
    "if choice == \"fahrenheight\":\n",
    "    print(celc(value))\n",
    "else:\n",
    "    print(fahr(value))"
   ]
  }
 ],
 "metadata": {
  "kernelspec": {
   "display_name": "Python 3",
   "language": "python",
   "name": "python3"
  },
  "language_info": {
   "codemirror_mode": {
    "name": "ipython",
    "version": 3
   },
   "file_extension": ".py",
   "mimetype": "text/x-python",
   "name": "python",
   "nbconvert_exporter": "python",
   "pygments_lexer": "ipython3",
   "version": "3.8.8"
  }
 },
 "nbformat": 4,
 "nbformat_minor": 5
}
