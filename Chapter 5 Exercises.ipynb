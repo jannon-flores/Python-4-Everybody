{
 "cells": [
  {
   "cell_type": "code",
   "execution_count": 8,
   "id": "52378f97",
   "metadata": {},
   "outputs": [
    {
     "name": "stdout",
     "output_type": "stream",
     "text": [
      "5\n",
      "4\n",
      "3\n",
      "2\n",
      "1\n",
      "blastoff\n"
     ]
    }
   ],
   "source": [
    "n = 5\n",
    "while n > 0:\n",
    "    print (n)\n",
    "    n = n - 1\n",
    "    if n == 0:\n",
    "        print(\"blastoff\")\n"
   ]
  },
  {
   "cell_type": "code",
   "execution_count": 12,
   "id": "acc3cc4c",
   "metadata": {},
   "outputs": [
    {
     "name": "stdout",
     "output_type": "stream",
     "text": [
      "10 9 8 7 6 5 4 3 2 1 Done!\n"
     ]
    }
   ],
   "source": [
    "n = 10\n",
    "while True:\n",
    " print(n, end=' ')\n",
    " n = n - 1\n",
    " if n == 0:\n",
    "    break\n",
    "print('Done!')"
   ]
  },
  {
   "cell_type": "code",
   "execution_count": null,
   "id": "33abebd1",
   "metadata": {},
   "outputs": [],
   "source": []
  }
 ],
 "metadata": {
  "kernelspec": {
   "display_name": "Python 3",
   "language": "python",
   "name": "python3"
  },
  "language_info": {
   "codemirror_mode": {
    "name": "ipython",
    "version": 3
   },
   "file_extension": ".py",
   "mimetype": "text/x-python",
   "name": "python",
   "nbconvert_exporter": "python",
   "pygments_lexer": "ipython3",
   "version": "3.8.8"
  }
 },
 "nbformat": 4,
 "nbformat_minor": 5
}
