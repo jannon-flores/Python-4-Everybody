{
 "cells": [
  {
   "cell_type": "markdown",
   "id": "f1642349",
   "metadata": {},
   "source": [
    "**Exercise 1: Rewrite your pay computation to give the employee 1.5 times the hourly rate for hours worked above 40 hours.**<br>\n",
    "*Enter Hours:* 45*<br>\n",
    "*Enter Rate: 10*<br>\n",
    "*Pay: 475.0*<br>"
   ]
  },
  {
   "cell_type": "code",
   "execution_count": 3,
   "id": "ea97752a",
   "metadata": {},
   "outputs": [
    {
     "name": "stdout",
     "output_type": "stream",
     "text": [
      "Enter Hours:\t45\n",
      "Enter Rate:\t10\n",
      "475.0\n"
     ]
    }
   ],
   "source": [
    "hours = int(input(\"Enter Hours:\\t\"))\n",
    "rate = int(input(\"Enter Rate:\\t\"))\n",
    "\n",
    "if hours > 40:\n",
    "    ot_hr = hours - 40 \n",
    "    ot_pay = ((rate * 1.5) * ot_hr)\n",
    "    regular_rate = (rate * 40)\n",
    "    total_pay = float(ot_pay + regular_rate)\n",
    "    print(total_pay)\n",
    "else:\n",
    "    print(float(hours * rate))"
   ]
  },
  {
   "cell_type": "markdown",
   "id": "7d8ab407",
   "metadata": {},
   "source": [
    "**Exercise 2: Rewrite your pay program using try and except so that your program handles non-numeric input gracefully by printing a message and exiting the program. The following shows two executions of the program:** <br>\n",
    "\n",
    "Enter Hours: 20<br>\n",
    "Enter Rate: nine<br>\n",
    "<br>\n",
    "Error, please enter numeric input<br>\n",
    "<br>Enter Hours: forty<br>\n",
    "<br>Error, please enter numeric input<br>"
   ]
  },
  {
   "cell_type": "code",
   "execution_count": 7,
   "id": "4b97321d",
   "metadata": {},
   "outputs": [
    {
     "name": "stdout",
     "output_type": "stream",
     "text": [
      "Enter Hours:\t45\n",
      "Enter Rate:\t10\n"
     ]
    }
   ],
   "source": [
    "hours = input(\"Enter Hours:\\t\")\n",
    "rate = input(\"Enter Rate:\\t\")\n",
    "\n",
    "try:\n",
    "    hours = int(hours)\n",
    "    rate = int(rate)\n",
    "except:\n",
    "    print('Error, please enter numeric input')"
    "    quit()
   ]
  },
  {
   "cell_type": "markdown",
   "id": "08443c75",
   "metadata": {},
   "source": [
    "**Exercise 3: Write a program to prompt for a score between 0.0 and 1.0. If the score is out of range, print an error message. If the score is between 0.0 and 1.0, print a grade using the following table:Exercise 3: Write a program to prompt for a score between 0.0 and 1.0. If the score is out of range, print an error message. If the score is between 0.0 and 1.0, print a grade using the following table:**<br>\n",
    "\n",
    "<table style=\"width:20%\">\n",
    "  <tr>\n",
    "    <th>Score</th>\n",
    "    <th>Grade</th>\n",
    "  </tr>\n",
    "  <tr>\n",
    "    <td>>= 0.9</td>\n",
    "    <td>A</td>\n",
    "  </tr>\n",
    "  <tr>\n",
    "    <td>>=0.8</td>\n",
    "    <td>B</td>\n",
    "  </tr>\n",
    "      <tr>\n",
    "    <td>>=0.7</td>\n",
    "    <td>C</td>\n",
    "  </tr>\n",
    "      <tr>\n",
    "    <td> >=0.6 </td>\n",
    "    <td>D</td>\n",
    "  </tr>\n",
    "          <tr>\n",
    "    <td> lower than 0.6 </td>\n",
    "    <td>F</td>\n",
    "  </tr>\n",
    "</table>\n",
    "\n"
   ]
  },
  {
   "cell_type": "code",
   "execution_count": null,
   "id": "9a6af54c",
   "metadata": {},
   "outputs": [],
   "source": [
    "def score_value(score):\n",
    "    if score >= 0 or score <= 10:\n",
    "        if score > 10:\n",
    "            return(\"Please input a proper grade\")\n",
    "        elif score >= 9:\n",
    "            return \"A\"\n",
    "        elif score >= 8:\n",
    "            return \"B\"\n",
    "        elif score >= 7:\n",
    "            return \"C\"\n",
    "        elif score >= 6:\n",
    "            return \"D\"\n",
    "        elif score < 6:\n",
    "            return \"You Failed so badly\"\n",
    "        \n",
    "\n",
    "while True:\n",
    "    grade = input(\"Write your grade: \")\n",
    "    \n",
    "    try:\n",
    "        grade = int(grade)\n",
    "    except: \n",
    "        print(\"Please input a valid grade\")\n",
    "        continue\n",
    "    \n",
    "    grades = score_value(grade)\n",
    "    \n",
    "    print(\"Your grade is\", grades)"
   ]
  },
  {
   "cell_type": "code",
   "execution_count": 16,
   "id": "eabbfd80",
   "metadata": {},
   "outputs": [
    {
     "data": {
      "text/plain": [
       "True"
      ]
     },
     "execution_count": 16,
     "metadata": {},
     "output_type": "execute_result"
    }
   ],
   "source": [
    "1 == 1.0"
   ]
  },
  {
   "cell_type": "code",
   "execution_count": null,
   "id": "c3b2212e",
   "metadata": {},
   "outputs": [],
   "source": []
  }
 ],
 "metadata": {
  "kernelspec": {
   "display_name": "Python 3",
   "language": "python",
   "name": "python3"
  },
  "language_info": {
   "codemirror_mode": {
    "name": "ipython",
    "version": 3
   },
   "file_extension": ".py",
   "mimetype": "text/x-python",
   "name": "python",
   "nbconvert_exporter": "python",
   "pygments_lexer": "ipython3",
   "version": "3.8.8"
  }
 },
 "nbformat": 4,
 "nbformat_minor": 5
}
