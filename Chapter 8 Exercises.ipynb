{
 "cells": [
  {
   "cell_type": "markdown",
   "id": "92bf1568-b10b-4b81-a8ee-7eaafa1508af",
   "metadata": {},
   "source": [
    "**Exercise 1: Write a function called chop that takes a list and modifies it, removing the first and last elements, and returns None. Then write a function called middle that takes a list and returns a new list that contains all but the first and last elements.**"
   ]
  },
  {
   "cell_type": "code",
   "execution_count": 19,
   "id": "3c7efde0-2c16-4f54-9fcb-e7b3a78b084e",
   "metadata": {},
   "outputs": [],
   "source": [
    "def chop(the_list):\n",
    "    the_list.pop()\n",
    "    del the_list[0]\n",
    "    return None\n",
    "\n",
    "def middle(the_list):\n",
    "    the_list.pop()\n",
    "    del the_list[0]\n",
    "    return the_list    "
   ]
  },
  {
   "cell_type": "code",
   "execution_count": 16,
   "id": "6187804a-ce31-4600-99c1-994ed2cf65d1",
   "metadata": {},
   "outputs": [
    {
     "name": "stdout",
     "output_type": "stream",
     "text": [
      "[2, 3, 4]\n"
     ]
    }
   ],
   "source": [
    "my_list = [1,2,3,4,5]\n",
    "my_list.pop(0)\n",
    "my_list.pop()\n",
    "print(my_list)"
   ]
  },
  {
   "cell_type": "code",
   "execution_count": 20,
   "id": "7379ab67-0136-4137-bfa7-f1cd133c10a2",
   "metadata": {},
   "outputs": [
    {
     "data": {
      "text/plain": [
       "[2, 3, 4]"
      ]
     },
     "execution_count": 20,
     "metadata": {},
     "output_type": "execute_result"
    }
   ],
   "source": [
    "my_list = [1,2,3,4,5]\n",
    "middle(my_list)"
   ]
  },
  {
   "cell_type": "markdown",
   "id": "b4215c34-c5de-4c3e-823b-b59520be31de",
   "metadata": {},
   "source": [
    "**Exercise 2: Figure out which line of the above program is still not properly guarded. See if you can construct a text file which causes the program to fail and then modify the program so that the line is properly guarded and test it to make sure it handles your new text file.**"
   ]
  },
  {
   "cell_type": "markdown",
   "id": "2387075a-01b5-4454-ad1d-65fb2063b833",
   "metadata": {},
   "source": [
    "**Exercise 4: Find all unique words in a file Shakespeare used over 20,000 words in his works. But how would you determine that? How would you produce the list of all the words that Shakespeare used? Would you download all his work, read it and track all unique words by hand?**<br>\n",
    "<br>\n",
    "**Let’s use Python to achieve that instead. List all unique words, sorted in alphabetical order, that are stored in a file romeo.txt containing a subset of Shakespeare’s work.**<br>\n",
    "<br>\n",
    "**To get started, download a copy of the file www.py4e.com/code3/romeo.txt. Create a list of unique words, which will contain the final result. Write a program to open the file romeo.txt and read it line by line. For each line, split the line into a list of words using the split function. For each word, check to see if the word is already in the list of unique\n",
    "words. If the word is not in the list of unique words, add it to the list. When the program completes, sort and print the list of unique words in alphabetical order.**"
   ]
  },
  {
   "cell_type": "code",
   "execution_count": 31,
   "id": "fbb1e119-b3e5-4930-9ea3-07e482ae2201",
   "metadata": {},
   "outputs": [
    {
     "name": "stdout",
     "output_type": "stream",
     "text": [
      "['Arise', 'But', 'It', 'Juliet', 'Who', 'already', 'and', 'breaks', 'east', 'envious', 'fair', 'grief', 'is', 'kill', 'light', 'moon', 'pale', 'sick', 'soft', 'sun', 'the', 'through', 'what', 'window', 'with', 'yonder']\n"
     ]
    }
   ],
   "source": [
    "import os\n",
    "os.chdir(\"/Users/jannon/Downloads\")\n",
    "\n",
    "poem = \"romeo.txt\"\n",
    "fhand = open(poem)\n",
    "\n",
    "unique_words = []\n",
    "\n",
    "for line in fhand:\n",
    "    lines = line.split()\n",
    "    for words in lines:\n",
    "        if words not in unique_words:\n",
    "            unique_words.append(words)\n",
    "unique_words.sort()\n",
    "print(unique_words)\n",
    "            "
   ]
  },
  {
   "cell_type": "markdown",
   "id": "45e17a2b-5a8c-49a7-9380-5d8d1d408958",
   "metadata": {},
   "source": [
    "**Exercise 5: Minimalist Email Client. MBOX (mail box) is a popular file format to store and share a collection of emails. This was used by early email servers and desktop apps. Without getting into too many details, MBOX is a text file, which stores emails consecutively. Emails are separated by a special line which starts with From (notice the space). Importantly, lines starting with From: (notice the colon) describes the email itself and does not act as a separator. Imagine you wrote a minimalist email app, that lists the email of the senders in the user’s Inbox and counts the number of emails. Write a program to read through the mail box data and when you find line that starts with “From”, you will split the line into words using the split function. We are interested in who sent the message, which is the second word on the From line.**\n",
    "\n",
    "<br>\n",
    "\n",
    "*From stephen.marquard@uct.ac.za Sat Jan 5 09:14:16 2008*\n",
    "<br>\n",
    "\n",
    "You will parse the From line and print out the second word for each\n",
    "From line, then you will also count the number of From (not From:)\n",
    "lines and print out a count at the end. This is a good sample output\n",
    "with a few lines removed:\n",
    "\n",
    "<br>\n",
    "\n",
    "*python fromcount.py* <br>\n",
    "*Enter a file name: mbox-short.txt* <br>\n",
    "*There were 27 lines in the file with From as the first word*"
   ]
  },
  {
   "cell_type": "code",
   "execution_count": 56,
   "id": "629ac1c2-86e0-4059-8ec6-8d081cc8e518",
   "metadata": {},
   "outputs": [
    {
     "name": "stdin",
     "output_type": "stream",
     "text": [
      "Enter File:  mbox-short.txt\n"
     ]
    },
    {
     "name": "stdout",
     "output_type": "stream",
     "text": [
      "stephen.marquard@uct.ac.za\n",
      "stephen.marquard@uct.ac.za\n",
      "louis@media.berkeley.edu\n",
      "louis@media.berkeley.edu\n",
      "zqian@umich.edu\n",
      "zqian@umich.edu\n",
      "rjlowe@iupui.edu\n",
      "rjlowe@iupui.edu\n",
      "zqian@umich.edu\n",
      "zqian@umich.edu\n",
      "rjlowe@iupui.edu\n",
      "rjlowe@iupui.edu\n",
      "cwen@iupui.edu\n",
      "cwen@iupui.edu\n",
      "cwen@iupui.edu\n",
      "cwen@iupui.edu\n",
      "gsilver@umich.edu\n",
      "gsilver@umich.edu\n",
      "gsilver@umich.edu\n",
      "gsilver@umich.edu\n",
      "zqian@umich.edu\n",
      "zqian@umich.edu\n",
      "gsilver@umich.edu\n",
      "gsilver@umich.edu\n",
      "wagnermr@iupui.edu\n",
      "wagnermr@iupui.edu\n",
      "zqian@umich.edu\n",
      "zqian@umich.edu\n",
      "antranig@caret.cam.ac.uk\n",
      "antranig@caret.cam.ac.uk\n",
      "gopal.ramasammycook@gmail.com\n",
      "gopal.ramasammycook@gmail.com\n",
      "david.horwitz@uct.ac.za\n",
      "david.horwitz@uct.ac.za\n",
      "david.horwitz@uct.ac.za\n",
      "david.horwitz@uct.ac.za\n",
      "david.horwitz@uct.ac.za\n",
      "david.horwitz@uct.ac.za\n",
      "david.horwitz@uct.ac.za\n",
      "david.horwitz@uct.ac.za\n",
      "stephen.marquard@uct.ac.za\n",
      "stephen.marquard@uct.ac.za\n",
      "louis@media.berkeley.edu\n",
      "louis@media.berkeley.edu\n",
      "louis@media.berkeley.edu\n",
      "louis@media.berkeley.edu\n",
      "ray@media.berkeley.edu\n",
      "ray@media.berkeley.edu\n",
      "cwen@iupui.edu\n",
      "cwen@iupui.edu\n",
      "cwen@iupui.edu\n",
      "cwen@iupui.edu\n",
      "cwen@iupui.edu\n",
      "cwen@iupui.edu\n",
      "There were 54 lines in the file with 'From' as the first word\n"
     ]
    }
   ],
   "source": [
    "open_file = input(\"Enter File: \")\n",
    "try:\n",
    "    file = open(open_file)\n",
    "except:\n",
    "    print(\"File cannot be opened\")\n",
    "    quit()\n",
    "\n",
    "emails = []\n",
    "line = 0\n",
    "\n",
    "for lines in file:\n",
    "    lines = lines.lower()\n",
    "    lines = lines.strip()\n",
    "    if lines.startswith(\"from\"):\n",
    "        line = line + 1 \n",
    "        lines = lines.split()\n",
    "        emails.append(lines[1])\n",
    "        \n",
    "for email in emails:\n",
    "    print(email)\n",
    "\n",
    "print(f\"There were {line} lines in the file with 'From' as the first word\")\n",
    "        \n"
   ]
  },
  {
   "cell_type": "code",
   "execution_count": 34,
   "id": "65c25262-f890-4f0d-9c24-7c187d259512",
   "metadata": {},
   "outputs": [
    {
     "name": "stdout",
     "output_type": "stream",
     "text": [
      "[]\n"
     ]
    }
   ],
   "source": [
    "print(emails)"
   ]
  },
  {
   "cell_type": "markdown",
   "id": "9347d280-bb94-4642-8282-cade237a3ba7",
   "metadata": {},
   "source": [
    "**Exercise 6: Rewrite the program that prompts the user for a list of numbers and prints out the maximum and minimum of the numbers at the end when the user enters “done”. Write the program to store the numbers the user enters in a list and use the max() and min() functions to compute the maximum and minimum numbers after the loop completes.**<br>\n",
    "\n",
    "Enter a number: 6<br>\n",
    "Enter a number: 2<br>\n",
    "Enter a number: 9<br>\n",
    "Enter a number: 3<br>\n",
    "Enter a number: 5<br>\n",
    "Enter a number: done<br>\n",
    "Maximum: 9.0<br>\n",
    "Minimum: 2.0<br>"
   ]
  },
  {
   "cell_type": "code",
   "execution_count": 59,
   "id": "ee6ee61d-d3a7-41ce-b75d-a46f822a7100",
   "metadata": {},
   "outputs": [
    {
     "name": "stdin",
     "output_type": "stream",
     "text": [
      "Enter a number:  2\n",
      "Enter a number:  23231\n",
      "Enter a number:  42431\n",
      "Enter a number:  jkgkdf\n"
     ]
    },
    {
     "name": "stdout",
     "output_type": "stream",
     "text": [
      "Invalid Input\n"
     ]
    },
    {
     "name": "stdin",
     "output_type": "stream",
     "text": [
      "Enter a number:  dwe\n"
     ]
    },
    {
     "name": "stdout",
     "output_type": "stream",
     "text": [
      "Invalid Input\n"
     ]
    },
    {
     "name": "stdin",
     "output_type": "stream",
     "text": [
      "Enter a number:  232321\n",
      "Enter a number:  92\n",
      "Enter a number:  23\n",
      "Enter a number:  51\n",
      "Enter a number:  DONE\n"
     ]
    },
    {
     "name": "stdout",
     "output_type": "stream",
     "text": [
      "Maximum: 232321, Minimum: 2\n"
     ]
    }
   ],
   "source": [
    "total_number = []\n",
    "while True:\n",
    "    number = input(\"Enter a number: \")\n",
    "    number = number.lower()\n",
    "    try:\n",
    "        number = int(number)\n",
    "    except:\n",
    "        if number == \"done\":\n",
    "            break\n",
    "        print(\"Invalid Input\")\n",
    "        continue\n",
    "    total_number.append(number)\n",
    "\n",
    "maximum = max(total_number)\n",
    "minimium = min(total_number)\n",
    "\n",
    "print(f\"Maximum: {maximum}, Minimum: {minimium}\")\n",
    "    "
   ]
  },
  {
   "cell_type": "code",
   "execution_count": null,
   "id": "8163733d-c0fb-42b0-b0c1-de7e7236d390",
   "metadata": {},
   "outputs": [],
   "source": []
  }
 ],
 "metadata": {
  "kernelspec": {
   "display_name": "Python 3 (ipykernel)",
   "language": "python",
   "name": "python3"
  },
  "language_info": {
   "codemirror_mode": {
    "name": "ipython",
    "version": 3
   },
   "file_extension": ".py",
   "mimetype": "text/x-python",
   "name": "python",
   "nbconvert_exporter": "python",
   "pygments_lexer": "ipython3",
   "version": "3.8.13"
  }
 },
 "nbformat": 4,
 "nbformat_minor": 5
}
