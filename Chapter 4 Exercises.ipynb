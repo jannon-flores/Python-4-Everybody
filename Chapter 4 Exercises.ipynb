{
 "cells": [
  {
   "cell_type": "markdown",
   "id": "421d4cc8",
   "metadata": {},
   "source": [
    "<h1> Chapter 4 Exercises"
   ]
  },
  {
   "cell_type": "markdown",
   "id": "af726398",
   "metadata": {},
   "source": [
    "**Exercise 1: Run the program on your system and see what numbers you get. Run the program more than once and see what numbers you get.**<br>\n",
    "''>>> random.randint(5, 10)<br>\n",
    "''>>> random.randint(5, 10)<br>\n",
    "To choose an element from a sequence at random, you can use choice:<br>\n",
    "''>>> t = [1, 2, 3] <br>\n",
    "'''>>> random.choice(t)"
   ]
  },
  {
   "cell_type": "code",
   "execution_count": 8,
   "id": "34936822",
   "metadata": {},
   "outputs": [
    {
     "data": {
      "text/plain": [
       "6"
      ]
     },
     "execution_count": 8,
     "metadata": {},
     "output_type": "execute_result"
    }
   ],
   "source": [
    "import random\n",
    "\n",
    "random.randint(5,10)"
   ]
  },
  {
   "cell_type": "code",
   "execution_count": 11,
   "id": "63731aed",
   "metadata": {},
   "outputs": [
    {
     "data": {
      "text/plain": [
       "2"
      ]
     },
     "execution_count": 11,
     "metadata": {},
     "output_type": "execute_result"
    }
   ],
   "source": [
    "t = [1,2,3]\n",
    "random.choice(t)"
   ]
  },
  {
   "cell_type": "markdown",
   "id": "b43917c1",
   "metadata": {},
   "source": [
    "**Exercise 7: Rewrite the grade program from the previous chapter using a function called computegrade that takes a score as its parameter and returns a grade as a string.**\n",
    "\n",
    "<table style=\"width:20%\">\n",
    "  <tr>\n",
    "    <th>Score</th>\n",
    "    <th>Grade</th>\n",
    "  </tr>\n",
    "  <tr>\n",
    "    <td>>= 0.9</td>\n",
    "    <td>A</td>\n",
    "  </tr>\n",
    "  <tr>\n",
    "    <td>>=0.8</td>\n",
    "    <td>B</td>\n",
    "  </tr>\n",
    "      <tr>\n",
    "    <td>>=0.7</td>\n",
    "    <td>C</td>\n",
    "  </tr>\n",
    "      <tr>\n",
    "    <td> >=0.6 </td>\n",
    "    <td>D</td>\n",
    "  </tr>\n",
    "          <tr>\n",
    "    <td> lower than 0.6 </td>\n",
    "    <td>F</td>\n",
    "  </tr>\n",
    "</table>"
   ]
  },
  {
   "cell_type": "code",
   "execution_count": null,
   "id": "164151ac",
   "metadata": {},
   "outputs": [],
   "source": [
    "def score_value(score):\n",
    "    if score >= 0 or score <= 10:\n",
    "        if score > 10:\n",
    "            return(\"Please input a proper grade\")\n",
    "        elif score >= 9:\n",
    "            return \"A\"\n",
    "        elif score >= 8:\n",
    "            return \"B\"\n",
    "        elif score >= 7:\n",
    "            return \"C\"\n",
    "        elif score >= 6:\n",
    "            return \"D\"\n",
    "        elif score < 6:\n",
    "            return \"You Failed so badly\"\n",
    "        \n",
    "\n",
    "while True:\n",
    "    grade = input(\"Write your grade: \")\n",
    "    try:\n",
    "        grade = int(grade)\n",
    "    except: \n",
    "        print(\"Please input a valid grade\")\n",
    "        continue\n",
    "    \n",
    "    grades = score_value(grade)\n",
    "    \n",
    "    print(\"Your grade is\", grades)"
   ]
  }
 ],
 "metadata": {
  "kernelspec": {
   "display_name": "Python 3",
   "language": "python",
   "name": "python3"
  },
  "language_info": {
   "codemirror_mode": {
    "name": "ipython",
    "version": 3
   },
   "file_extension": ".py",
   "mimetype": "text/x-python",
   "name": "python",
   "nbconvert_exporter": "python",
   "pygments_lexer": "ipython3",
   "version": "3.8.8"
  }
 },
 "nbformat": 4,
 "nbformat_minor": 5
}
