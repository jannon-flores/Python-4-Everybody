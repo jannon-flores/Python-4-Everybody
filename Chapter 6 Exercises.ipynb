{
 "cells": [
  {
   "cell_type": "markdown",
   "id": "5a13ddf2",
   "metadata": {},
   "source": [
    "**Exercise 1: Write a while loop that starts at the last character in the string and works its way backwards to the first character in the string, printing each letter on a separate line, except backwards.**"
   ]
  },
  {
   "cell_type": "code",
   "execution_count": 3,
   "id": "b1d677f6",
   "metadata": {},
   "outputs": [
    {
     "name": "stdout",
     "output_type": "stream",
     "text": [
      "a-n-a-n-a-b-"
     ]
    }
   ],
   "source": [
    "index = 0\n",
    "fruit = \"banana\"\n",
    "\n",
    "for letter in fruit:\n",
    "    index = index - 1\n",
    "    letter = fruit[index]\n",
    "    print(letter, end = \"-\")"
   ]
  },
  {
   "cell_type": "markdown",
   "id": "536f4740",
   "metadata": {},
   "source": [
    "**Exercise 2: Given that fruit is a string, what does fruit[:] mean?**"
   ]
  },
  {
   "cell_type": "code",
   "execution_count": 6,
   "id": "e7e67045",
   "metadata": {},
   "outputs": [
    {
     "name": "stdout",
     "output_type": "stream",
     "text": [
      "<class 'str'> banana "
     ]
    }
   ],
   "source": [
    "type(fruit[:])\n",
    "print(type(fruit[:]), fruit[:], end = \" \")"
   ]
  },
  {
   "cell_type": "markdown",
   "id": "0f61382a",
   "metadata": {},
   "source": [
    "**Exercise 3: Encapsulate this code in a function named count, and generalize it so that it accepts the string and the letter as arguments.**"
   ]
  },
  {
   "cell_type": "code",
   "execution_count": 9,
   "id": "4fbdc0ca",
   "metadata": {},
   "outputs": [
    {
     "name": "stdout",
     "output_type": "stream",
     "text": [
      "Your list had 'r' 2 times\n"
     ]
    }
   ],
   "source": [
    "## Defining a function\n",
    "def count_item (my_list, count_what):\n",
    "    index = 0\n",
    "    for item in my_list:\n",
    "        if count_what == item:\n",
    "            index = index + 1\n",
    "    print(f\"Your list had '{count_what}' {index} times\")\n",
    "\n",
    "\n",
    "# my_lists = [1,2,3,4,5,6,7,1,1,1,1,1,1,1,10]          \n",
    "# count_item(my_lists, 1)\n",
    "\n",
    "tree = \"Cherry Blossom\"\n",
    "\n",
    "count_item(tree, \"r\")"
   ]
  },
  {
   "cell_type": "markdown",
   "id": "474ada48-c73d-4165-842a-a6391eae5e1f",
   "metadata": {},
   "source": [
    "In Addition to the above, I formulated an exercise that will ask for a password and will check if the user input matches the password, and also, the program will tell how many correct letters did he/she got"
   ]
  },
  {
   "cell_type": "code",
   "execution_count": 1,
   "id": "d7b6feb9-19c0-4b53-b1b8-c21d569e92c9",
   "metadata": {},
   "outputs": [
    {
     "name": "stdin",
     "output_type": "stream",
     "text": [
      "Enter Password:\t Jason\n"
     ]
    },
    {
     "name": "stdout",
     "output_type": "stream",
     "text": [
      "Password Incorrect\n",
      "You got 2 correct letters\n",
      "You got 2 try left\n"
     ]
    },
    {
     "name": "stdin",
     "output_type": "stream",
     "text": [
      "Enter Password:\t James\n"
     ]
    },
    {
     "name": "stdout",
     "output_type": "stream",
     "text": [
      "Password Incorrect\n",
      "You got 2 correct letters\n",
      "You got 1 try left\n"
     ]
    },
    {
     "name": "stdin",
     "output_type": "stream",
     "text": [
      "Enter Password:\t Maruska01\n"
     ]
    },
    {
     "name": "stdout",
     "output_type": "stream",
     "text": [
      "Credentials Accepted\n"
     ]
    }
   ],
   "source": [
    "password = \"Maruska01\"\n",
    "counter = 0 # Use this to stop the while loop and since we can only ask our client for their password 3 times\n",
    "\n",
    "while counter != 3:\n",
    "    '''The flow here is that\n",
    "    We ask the user a password and then after asking the user the password, we will run a conditional statement\n",
    "    checking if the password input matches the password. If the password does not match, we then poroceed to our else \n",
    "    statement. Our else statement is nested and have another aditional if statement and a for loop below it to check\n",
    "    if the letters in our pw_input has a match in the password. I know it's ridiculous, it's just I want to test my \n",
    "    grasp in loops as I think this is the part I have the weakest grasp at.\n",
    "    '''\n",
    "    pw_input = input(\"Enter Password:\\t\")\n",
    "    index = 0 \n",
    "    if pw_input == password:\n",
    "        print(\"Credentials Accepted\")\n",
    "        break\n",
    "    else:\n",
    "        counter = counter + 1\n",
    "        for letters_1 in pw_input:\n",
    "            if letters_1 in password:\n",
    "                index = index + 1\n",
    "        if index == 0:\n",
    "            print(\"Password Incorrect\")\n",
    "            print(f\"You got {3 - counter} try left\")\n",
    "        else:\n",
    "            print(\"Password Incorrect\")\n",
    "            print(f\"You got {index} correct letters\")\n",
    "            print(f\"You got {3 - counter} try left\")"
   ]
  },
  {
   "cell_type": "markdown",
   "id": "1f4efc4e-e7e8-4d79-80cc-df45a4927ffc",
   "metadata": {},
   "source": [
    "**Exercise 4: There is a string method called count that is similar to the function in the previous exercise. Read the documentation of this method at:**<br>\n",
    "https://docs.python.org/library/stdtypes.html#string-methods\n",
    "<br>\n",
    "Write an invocation that counts the number of times the letter a occurs\n",
    "in “banana”."
   ]
  },
  {
   "cell_type": "code",
   "execution_count": 4,
   "id": "d8e2d3d8-9316-4f92-91ec-b9e34288ea9d",
   "metadata": {},
   "outputs": [
    {
     "data": {
      "text/plain": [
       "2"
      ]
     },
     "execution_count": 4,
     "metadata": {},
     "output_type": "execute_result"
    }
   ],
   "source": [
    "fruit = \"banana\"\n",
    "fruit.count(\"n\")"
   ]
  },
  {
   "cell_type": "code",
   "execution_count": 5,
   "id": "5ef933e4-379d-422d-8ea8-91fba271b0d9",
   "metadata": {},
   "outputs": [
    {
     "data": {
      "text/plain": [
       "5"
      ]
     },
     "execution_count": 5,
     "metadata": {},
     "output_type": "execute_result"
    }
   ],
   "source": [
    "my_list = [1,2,3,4,5,6,7,8,1,1,1,1]\n",
    "my_list.count(1)"
   ]
  },
  {
   "cell_type": "markdown",
   "id": "74b1b8ff-7e36-44da-a2f8-33ed513419ee",
   "metadata": {},
   "source": [
    "The *count*() method counts the existent of a string or an item in a list. As you can see on the above, it counts how many times 'n' appeared in the string \"banana\" and also, we tried it on a list to traverse into it, we used .count method to find how many times does 1 appeared in a list"
   ]
  },
  {
   "cell_type": "markdown",
   "id": "83320300-b7c3-4238-b753-a8b098348f65",
   "metadata": {},
   "source": [
    "**Exercise 5: Take the following Python code that stores a string:**<br>\n",
    "str = 'X-DSPAM-Confidence:0.8475'<br>\n",
    "Use find and string slicing to extract the portion of the string after the colon character and then use the float function to convert the extracted string into a floating point number."
   ]
  },
  {
   "cell_type": "code",
   "execution_count": 28,
   "id": "62fdc29b-0686-4b20-8c5c-52827e91e822",
   "metadata": {},
   "outputs": [
    {
     "name": "stdout",
     "output_type": "stream",
     "text": [
      "0.8475\n"
     ]
    }
   ],
   "source": [
    "the_string = 'X-DSPAM-Confidence:0.8475'\n",
    "index = the_string.find(':')\n",
    "num = the_string[index+1:]\n",
    "num = float(num)\n",
    "print(num)"
   ]
  },
  {
   "cell_type": "markdown",
   "id": "ef37a29e-1ade-4ca1-bfcd-9633041aadb4",
   "metadata": {},
   "source": [
    "**Exercise 6: Read the documentation of the string methods at\n",
    "https://docs.python.org/library/stdtypes.html#string-methods You\n",
    "might want to experiment with some of them to make sure you\n",
    "understand how they work. strip and replace are particularly useful.\n",
    "The documentation uses a syntax that might be confusing. For example,\n",
    "in find(sub[, start[, end]]), the brackets indicate optional arguments.\n",
    "So sub is required, but start is optional, and if you include start, then\n",
    "end is optional.**"
   ]
  },
  {
   "cell_type": "code",
   "execution_count": 29,
   "id": "344b7134-6747-4d8e-b4f4-6dab433ef555",
   "metadata": {},
   "outputs": [
    {
     "data": {
      "text/plain": [
       "False"
      ]
     },
     "execution_count": 29,
     "metadata": {},
     "output_type": "execute_result"
    }
   ],
   "source": [
    "top_g.endswith('tate', 9)"
   ]
  },
  {
   "cell_type": "code",
   "execution_count": 18,
   "id": "014f17e8-cc66-4569-a07c-871ae68e02f1",
   "metadata": {},
   "outputs": [
    {
     "name": "stdout",
     "output_type": "stream",
     "text": [
      "23\n"
     ]
    }
   ],
   "source": [
    "quote = \"Apple designed its 1st mobile smartphone to run the Mac OS X operating system, made popular on the company’s personal computers. The device’s most revolutionary element was its touch-sensitive multisensor interface. The touchscreen permitted users to exploit all programs and telephone functions with their fingertips rather than a stylus or physical keys. This interface — perfected, if not constructed, by Apple — recreated a tactile physical experience; for sample, the user could shrink photographs with a pinching motion or flip through music albums applying a flicking motion. The iPhone also featured Internet browsing, music and video playback, a digital camera, visual voicemail, and a tabbed contact list.\"\n",
    "\n",
    "result = quote.find('m')\n",
    "print(result)"
   ]
  },
  {
   "cell_type": "code",
   "execution_count": 8,
   "id": "dc4ade98-8640-4232-a514-a3e63e91d2a1",
   "metadata": {},
   "outputs": [
    {
     "data": {
      "text/plain": [
       "'Andrew tate'"
      ]
     },
     "execution_count": 8,
     "metadata": {},
     "output_type": "execute_result"
    }
   ],
   "source": [
    "top_g = \"andrew tate\"\n",
    "top_g.capitalize()"
   ]
  },
  {
   "cell_type": "code",
   "execution_count": 30,
   "id": "1c1c5b9b-7147-43c2-ba5a-ceabef1bf859",
   "metadata": {},
   "outputs": [
    {
     "data": {
      "text/plain": [
       "'Andrew Tate'"
      ]
     },
     "execution_count": 30,
     "metadata": {},
     "output_type": "execute_result"
    }
   ],
   "source": [
    "top_g.title()"
   ]
  }
 ],
 "metadata": {
  "kernelspec": {
   "display_name": "Python 3 (ipykernel)",
   "language": "python",
   "name": "python3"
  },
  "language_info": {
   "codemirror_mode": {
    "name": "ipython",
    "version": 3
   },
   "file_extension": ".py",
   "mimetype": "text/x-python",
   "name": "python",
   "nbconvert_exporter": "python",
   "pygments_lexer": "ipython3",
   "version": "3.8.13"
  }
 },
 "nbformat": 4,
 "nbformat_minor": 5
}
